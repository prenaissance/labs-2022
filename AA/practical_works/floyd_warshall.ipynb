{
 "cells": [
  {
   "cell_type": "code",
   "execution_count": 5,
   "metadata": {},
   "outputs": [],
   "source": [
    "# define floyd warshall with printing of the matrix each iteration\n",
    "inf = float(\"inf\")\n",
    "def floyd_warshall(dist):\n",
    "    n = len(dist)\n",
    "\n",
    "    for k in range(n):\n",
    "        for i in range(n):\n",
    "            for j in range(n):\n",
    "                if dist[i][k] + dist[k][j] < dist[i][j]:\n",
    "                    dist[i][j] = dist[i][k] + dist[k][j]\n",
    "        print(f\"Distance matrix after iteration {k}:\")\n",
    "        for row in dist:\n",
    "            print(row)\n",
    "\n",
    "    return dist"
   ]
  },
  {
   "cell_type": "code",
   "execution_count": 6,
   "metadata": {},
   "outputs": [
    {
     "name": "stdout",
     "output_type": "stream",
     "text": [
      "Distance matrix after iteration 0:\n",
      "[0, inf, 1, inf, inf]\n",
      "[2, 0, 3, 2, inf]\n",
      "[inf, inf, 0, 3, inf]\n",
      "[inf, inf, 1, 0, 2]\n",
      "[inf, 3, inf, inf, 0]\n",
      "Distance matrix after iteration 1:\n",
      "[0, inf, 1, inf, inf]\n",
      "[2, 0, 3, 2, inf]\n",
      "[inf, inf, 0, 3, inf]\n",
      "[inf, inf, 1, 0, 2]\n",
      "[5, 3, 6, 5, 0]\n",
      "Distance matrix after iteration 2:\n",
      "[0, inf, 1, 4, inf]\n",
      "[2, 0, 3, 2, inf]\n",
      "[inf, inf, 0, 3, inf]\n",
      "[inf, inf, 1, 0, 2]\n",
      "[5, 3, 6, 5, 0]\n",
      "Distance matrix after iteration 3:\n",
      "[0, inf, 1, 4, 6]\n",
      "[2, 0, 3, 2, 4]\n",
      "[inf, inf, 0, 3, 5]\n",
      "[inf, inf, 1, 0, 2]\n",
      "[5, 3, 6, 5, 0]\n",
      "Distance matrix after iteration 4:\n",
      "[0, 9, 1, 4, 6]\n",
      "[2, 0, 3, 2, 4]\n",
      "[10, 8, 0, 3, 5]\n",
      "[7, 5, 1, 0, 2]\n",
      "[5, 3, 6, 5, 0]\n"
     ]
    },
    {
     "data": {
      "text/plain": [
       "[[0, 9, 1, 4, 6],\n",
       " [2, 0, 3, 2, 4],\n",
       " [10, 8, 0, 3, 5],\n",
       " [7, 5, 1, 0, 2],\n",
       " [5, 3, 6, 5, 0]]"
      ]
     },
     "execution_count": 6,
     "metadata": {},
     "output_type": "execute_result"
    }
   ],
   "source": [
    "matrix = [[0, inf, 1, inf, inf],\n",
    "    [2, 0, inf, 2, inf],\n",
    "    [inf, inf, 0, 3, inf],\n",
    "    [inf, inf ,1, 0, 2],\n",
    "    [inf, 3, inf, inf, 0]\n",
    "]\n",
    "\n",
    "floyd_warshall(matrix)"
   ]
  }
 ],
 "metadata": {
  "kernelspec": {
   "display_name": "Python 3",
   "language": "python",
   "name": "python3"
  },
  "language_info": {
   "codemirror_mode": {
    "name": "ipython",
    "version": 3
   },
   "file_extension": ".py",
   "mimetype": "text/x-python",
   "name": "python",
   "nbconvert_exporter": "python",
   "pygments_lexer": "ipython3",
   "version": "3.10.4"
  },
  "orig_nbformat": 4
 },
 "nbformat": 4,
 "nbformat_minor": 2
}
