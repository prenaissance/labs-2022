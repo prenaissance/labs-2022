{
 "cells": [
  {
   "attachments": {},
   "cell_type": "markdown",
   "metadata": {},
   "source": [
    "# Lab 1 - Fibonacci Numbers algorithm comparison\n",
    "\n",
    "Setup"
   ]
  },
  {
   "cell_type": "code",
   "execution_count": 2,
   "metadata": {},
   "outputs": [],
   "source": [
    "import sys\n",
    "import matplotlib.pyplot as plt\n",
    "\n",
    "sys.path.append('../shared')\n",
    "\n",
    "from decorators import *\n",
    "\n",
    "set_1 = [5, 7, 10, 12, 15, 17, 20,\n",
    "22, 25, 27, 30, 32, 35]\n",
    "\n",
    "set_2 = [501, 631, 794, 1000,\n",
    "1259, 1585, 1995, 2512, 3162, 3981, 5012, 6310, 7943, 10000, 12589, 15849]\n"
   ]
  },
  {
   "attachments": {},
   "cell_type": "markdown",
   "metadata": {},
   "source": [
    "1. Recursive Fibonacci O(2^n)"
   ]
  },
  {
   "cell_type": "code",
   "execution_count": 3,
   "metadata": {},
   "outputs": [],
   "source": [
    "def recursive_fib(n):\n",
    "    if n < 2:\n",
    "        return n\n",
    "    return recursive_fib(n - 1) + recursive_fib(n - 2)"
   ]
  },
  {
   "attachments": {},
   "cell_type": "markdown",
   "metadata": {},
   "source": [
    "2. Iterative Fibonacci O(n)"
   ]
  },
  {
   "cell_type": "code",
   "execution_count": 4,
   "metadata": {},
   "outputs": [],
   "source": [
    "def iterative_fib(n):\n",
    "    if n < 2:\n",
    "        return n\n",
    "    a = 0\n",
    "    b = 1\n",
    "    for i in range(1, n):\n",
    "        a, b = b, a + b\n",
    "    return b"
   ]
  },
  {
   "attachments": {},
   "cell_type": "markdown",
   "metadata": {},
   "source": [
    "3. Memoized recursive Fibonacci O(n)"
   ]
  },
  {
   "cell_type": "code",
   "execution_count": 5,
   "metadata": {},
   "outputs": [],
   "source": [
    "memoized_fib = memoize(recursive_fib)"
   ]
  },
  {
   "attachments": {},
   "cell_type": "markdown",
   "metadata": {},
   "source": [
    "4. Recursion with stored values O(n)"
   ]
  },
  {
   "cell_type": "code",
   "execution_count": 6,
   "metadata": {},
   "outputs": [],
   "source": [
    "def stored_recursive_fib(n):\n",
    "    def stored_recursive(n, a, b):\n",
    "        if n < 2:\n",
    "            return b\n",
    "        return stored_recursive(n - 1, b, a + b)\n",
    "    \n",
    "    return stored_recursive(n, 0, 1)"
   ]
  },
  {
   "attachments": {},
   "cell_type": "markdown",
   "metadata": {},
   "source": [
    "5. Matrix exponentiation O(log n)"
   ]
  },
  {
   "cell_type": "code",
   "execution_count": 7,
   "metadata": {},
   "outputs": [],
   "source": [
    "def matrix_multiplication(A, B):\n",
    "    C = [[0, 0], [0, 0]]\n",
    "    for i in range(2):\n",
    "        for j in range(2):\n",
    "            for k in range(2):\n",
    "                C[i][j] += A[i][k] * B[k][j]\n",
    "    return C\n",
    "\n",
    "def matrix_power(F, n):\n",
    "    if n == 0 or n == 1:\n",
    "        return F\n",
    "    M = matrix_power(F, n//2)\n",
    "    M = matrix_multiplication(M, M)\n",
    "    if n % 2 != 0:\n",
    "        M = matrix_multiplication(F, M)\n",
    "    return M\n",
    "\n",
    "def fibonacci_matrix_exponentiation(n):\n",
    "    F = [[1, 1], [1, 0]]\n",
    "    if n == 0:\n",
    "        return 0\n",
    "    M = matrix_power(F, n-1)\n",
    "    return M[0][0]"
   ]
  },
  {
   "attachments": {},
   "cell_type": "markdown",
   "metadata": {},
   "source": [
    "6. Binet's formula O(1)"
   ]
  },
  {
   "cell_type": "code",
   "execution_count": 8,
   "metadata": {},
   "outputs": [],
   "source": [
    "phi = (1 + 5 ** 0.5) / 2\n",
    "\n",
    "def fibonacci_binet(n):\n",
    "    return int((phi ** n - (-phi) ** (-n)) / 5 ** 0.5)"
   ]
  },
  {
   "attachments": {},
   "cell_type": "markdown",
   "metadata": {},
   "source": [
    "Comparison:"
   ]
  },
  {
   "cell_type": "code",
   "execution_count": 9,
   "metadata": {},
   "outputs": [
    {
     "ename": "",
     "evalue": "",
     "output_type": "error",
     "traceback": [
      "\u001b[1;31mCanceled future for execute_request message before replies were done"
     ]
    },
    {
     "ename": "",
     "evalue": "",
     "output_type": "error",
     "traceback": [
      "\u001b[1;31mThe Kernel crashed while executing code in the the current cell or a previous cell. Please review the code in the cell(s) to identify a possible cause of the failure. Click <a href='https://aka.ms/vscodeJupyterKernelCrash'>here</a> for more info. View Jupyter <a href='command:jupyter.viewOutput'>log</a> for further details."
     ]
    }
   ],
   "source": [
    "from concurrent.futures import ThreadPoolExecutor, as_completed\n",
    "\n",
    "first_round = [recursive_fib, iterative_fib, memoized_fib, stored_recursive_fib, fibonacci_matrix_exponentiation, fibonacci_binet]\n",
    "second_round = [iterative_fib, memoized_fib, stored_recursive_fib, fibonacci_matrix_exponentiation]\n",
    "\n",
    "def benchmark_dataset(function, set):\n",
    "    return [function(n) for n in set]\n",
    "\n",
    "# Implement the benchmark using a thread pool and return a dictionary with the results\n",
    "def benchmark_thread_pool(functions, set):\n",
    "    results = {}\n",
    "    \n",
    "    with ThreadPoolExecutor(max_workers=4) as executor:\n",
    "        futures = [executor.submit(benchmark_dataset, function, set) for function in functions]\n",
    "    \n",
    "    for [name, future] in zip(map(lambda f: f.__name__, functions) ,as_completed(futures)):\n",
    "        results[name] = future.result()\n",
    "    \n",
    "    return results\n",
    "\n",
    "first_round_results = benchmark_thread_pool(first_round, set_1)\n",
    "second_round_results = benchmark_thread_pool(second_round, set_2)"
   ]
  },
  {
   "cell_type": "code",
   "execution_count": null,
   "metadata": {},
   "outputs": [],
   "source": [
    "def plot_results(results, set):\n",
    "    for name, result in results.items():\n",
    "        plt.plot(set, result, label=name)\n",
    "    plt.legend()\n",
    "    plt.show()\n",
    "\n",
    "plot_results(first_round_results, set_1)"
   ]
  }
 ],
 "metadata": {
  "kernelspec": {
   "display_name": "base",
   "language": "python",
   "name": "python3"
  },
  "language_info": {
   "codemirror_mode": {
    "name": "ipython",
    "version": 3
   },
   "file_extension": ".py",
   "mimetype": "text/x-python",
   "name": "python",
   "nbconvert_exporter": "python",
   "pygments_lexer": "ipython3",
   "version": "3.9.0"
  },
  "orig_nbformat": 4,
  "vscode": {
   "interpreter": {
    "hash": "19d1d53a962d236aa061289c2ac16dc8e6d9648c89fe79f459ae9a3493bc67b4"
   }
  }
 },
 "nbformat": 4,
 "nbformat_minor": 2
}
