{
 "cells": [
  {
   "attachments": {},
   "cell_type": "markdown",
   "metadata": {},
   "source": [
    "# Lab 1 - Fibonacci Numbers algorithm comparison\n",
    "\n",
    "Setup"
   ]
  },
  {
   "cell_type": "code",
   "execution_count": null,
   "metadata": {},
   "outputs": [],
   "source": [
    "import sys\n",
    "import matplotlib.pyplot as plt\n",
    "\n",
    "sys.path.append('../shared')\n",
    "\n",
    "from decorators import *\n",
    "from benchmarking import *\n",
    "\n",
    "set_1 = [5, 7, 10, 12, 15, 17, 20,\n",
    "22, 25, 27, 30, 32, 35]\n",
    "\n",
    "set_2 = [501, 631, 794, 1000,\n",
    "1259, 1585, 1995, 2512, 3162, 3981, 5012, 6310, 7943, 10000, 12589, 15849, 18123, 24123, 32123]\n"
   ]
  },
  {
   "attachments": {},
   "cell_type": "markdown",
   "metadata": {},
   "source": [
    "1. Recursive Fibonacci O(2^n)"
   ]
  },
  {
   "cell_type": "code",
   "execution_count": null,
   "metadata": {},
   "outputs": [],
   "source": [
    "def recursive_fib(n):\n",
    "    if n < 2:\n",
    "        return n\n",
    "    return recursive_fib(n - 1) + recursive_fib(n - 2)"
   ]
  },
  {
   "attachments": {},
   "cell_type": "markdown",
   "metadata": {},
   "source": [
    "2. Iterative Fibonacci O(n)"
   ]
  },
  {
   "cell_type": "code",
   "execution_count": null,
   "metadata": {},
   "outputs": [],
   "source": [
    "def iterative_fib(n):\n",
    "    if n < 2:\n",
    "        return n\n",
    "    a = 0\n",
    "    b = 1\n",
    "    for i in range(1, n):\n",
    "        a, b = b, a + b\n",
    "    return b"
   ]
  },
  {
   "attachments": {},
   "cell_type": "markdown",
   "metadata": {},
   "source": [
    "3. Memoized recursive Fibonacci O(n)"
   ]
  },
  {
   "cell_type": "code",
   "execution_count": null,
   "metadata": {},
   "outputs": [],
   "source": [
    "@memoize\n",
    "def memoized_fib(n):\n",
    "    if n < 2:\n",
    "        return n\n",
    "    return memoized_fib(n - 1) + memoized_fib(n - 2)"
   ]
  },
  {
   "attachments": {},
   "cell_type": "markdown",
   "metadata": {},
   "source": [
    "4. Recursion with stored values O(n)"
   ]
  },
  {
   "cell_type": "code",
   "execution_count": null,
   "metadata": {},
   "outputs": [],
   "source": [
    "def stored_recursive_fib(n):\n",
    "    def stored_recursive(n, a, b):\n",
    "        if n < 2:\n",
    "            return b\n",
    "        return stored_recursive(n - 1, b, a + b)\n",
    "    \n",
    "    return stored_recursive(n, 0, 1)"
   ]
  },
  {
   "attachments": {},
   "cell_type": "markdown",
   "metadata": {},
   "source": [
    "5. Matrix exponentiation O(log n)"
   ]
  },
  {
   "cell_type": "code",
   "execution_count": null,
   "metadata": {},
   "outputs": [],
   "source": [
    "def matrix_multiplication(A, B):\n",
    "    C = [[0, 0], [0, 0]]\n",
    "    for i in range(2):\n",
    "        for j in range(2):\n",
    "            for k in range(2):\n",
    "                C[i][j] += A[i][k] * B[k][j]\n",
    "    return C\n",
    "\n",
    "def matrix_power(F, n):\n",
    "    if n == 0 or n == 1:\n",
    "        return F\n",
    "    M = matrix_power(F, n//2)\n",
    "    M = matrix_multiplication(M, M)\n",
    "    if n % 2 != 0:\n",
    "        M = matrix_multiplication(F, M)\n",
    "    return M\n",
    "\n",
    "def fibonacci_matrix_exponentiation(n):\n",
    "    F = [[1, 1], [1, 0]]\n",
    "    if n == 0:\n",
    "        return 0\n",
    "    M = matrix_power(F, n-1)\n",
    "    return M[0][0]"
   ]
  },
  {
   "attachments": {},
   "cell_type": "markdown",
   "metadata": {},
   "source": [
    "6. Binet's formula O(1)"
   ]
  },
  {
   "cell_type": "code",
   "execution_count": null,
   "metadata": {},
   "outputs": [],
   "source": [
    "phi = (1 + 5 ** 0.5) / 2\n",
    "\n",
    "def fibonacci_binet(n):\n",
    "    return int((phi ** n - (-phi) ** (-n)) / 5 ** 0.5)"
   ]
  },
  {
   "attachments": {},
   "cell_type": "markdown",
   "metadata": {},
   "source": [
    "7. Iterative with DP O(log n)"
   ]
  },
  {
   "cell_type": "code",
   "execution_count": null,
   "metadata": {},
   "outputs": [],
   "source": [
    "def fibonacci_iterative_dp(n):\n",
    "    results = [0] * (n + 1)\n",
    "    results[1] = 1\n",
    "    for i in range(2, n + 1):\n",
    "        results.append(results[i - 1] + results[i - 2])\n",
    "    return results[n]"
   ]
  },
  {
   "attachments": {},
   "cell_type": "markdown",
   "metadata": {},
   "source": [
    "Comparison:"
   ]
  },
  {
   "cell_type": "code",
   "execution_count": null,
   "metadata": {},
   "outputs": [],
   "source": [
    "first_round = [recursive_fib, iterative_fib, memoized_fib, stored_recursive_fib, fibonacci_matrix_exponentiation, fibonacci_iterative_dp, fibonacci_binet]\n",
    "second_round = [iterative_fib, fibonacci_matrix_exponentiation, fibonacci_iterative_dp]\n",
    "\n",
    "first_round_results = benchmark_single_thread(first_round, set_1)\n",
    "second_round_results = benchmark_single_thread(second_round, set_2)"
   ]
  },
  {
   "cell_type": "code",
   "execution_count": null,
   "metadata": {},
   "outputs": [],
   "source": [
    "def plot_results(results, set, isLog=False):\n",
    "    for name, result in results.items():\n",
    "        plt.plot(set, result, label=name)\n",
    "    plt.xlabel(\"n\")\n",
    "    plt.ylabel(\"time (ms)\")\n",
    "    plt.legend()\n",
    "    if isLog:\n",
    "        plt.yscale(\"log\")\n",
    "        plt.title(\"Logarithmic scale\")\n",
    "    else:\n",
    "        plt.title(\"Linear scale\")\n",
    "    plt.show()\n",
    "\n",
    "plot_results(first_round_results, set_1, True)"
   ]
  },
  {
   "cell_type": "code",
   "execution_count": null,
   "metadata": {},
   "outputs": [],
   "source": [
    "\n",
    "\n",
    "plot_results(second_round_results, set_2, False)"
   ]
  }
 ],
 "metadata": {
  "kernelspec": {
   "display_name": "Python 3",
   "language": "python",
   "name": "python3"
  },
  "language_info": {
   "codemirror_mode": {
    "name": "ipython",
    "version": 3
   },
   "file_extension": ".py",
   "mimetype": "text/x-python",
   "name": "python",
   "nbconvert_exporter": "python",
   "pygments_lexer": "ipython3",
   "version": "3.10.4"
  },
  "orig_nbformat": 4,
  "vscode": {
   "interpreter": {
    "hash": "369f2c481f4da34e4445cda3fffd2e751bd1c4d706f27375911949ba6bb62e1c"
   }
  }
 },
 "nbformat": 4,
 "nbformat_minor": 2
}
