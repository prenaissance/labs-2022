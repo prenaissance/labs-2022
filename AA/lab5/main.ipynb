{
 "cells": [
  {
   "attachments": {},
   "cell_type": "markdown",
   "metadata": {},
   "source": [
    "# Objectives\n",
    "\n",
    "1. Implement at least 2 algorithms that determine the Nth decimal digit of Pi in a programming language. (For ten you need to implement 3 algorithms)\n",
    "2. Choose metrics for comparing algorithms\n",
    "3. Perform empirical analysis of the proposed algorithms\n",
    "4. Make a graphical presentation of the data obtained\n",
    "5. Make a conclusion on the work done.\n",
    "\n",
    "\n",
    "### Algorithms\n",
    "\n",
    "Maclauren series, Gausse-Legendre algorithm, Monte Carlo method\n"
   ]
  },
  {
   "attachments": {},
   "cell_type": "markdown",
   "metadata": {},
   "source": [
    "## Implementation\n"
   ]
  },
  {
   "attachments": {},
   "cell_type": "markdown",
   "metadata": {},
   "source": [
    "## Setup\n"
   ]
  },
  {
   "cell_type": "code",
   "execution_count": 39,
   "metadata": {},
   "outputs": [],
   "source": [
    "import sys\n",
    "import matplotlib.pyplot as plt\n",
    "\n",
    "sys.path.append('../shared')\n",
    "from decorators import *\n",
    "from benchmarking import *\n"
   ]
  },
  {
   "attachments": {},
   "cell_type": "markdown",
   "metadata": {},
   "source": [
    "### Preparing the samples\n"
   ]
  },
  {
   "cell_type": "code",
   "execution_count": 40,
   "metadata": {},
   "outputs": [],
   "source": [
    "from math import pi"
   ]
  },
  {
   "attachments": {},
   "cell_type": "markdown",
   "metadata": {},
   "source": [
    "### 1. Implement the algorithms listed below in a programming language (python)\n"
   ]
  },
  {
   "attachments": {},
   "cell_type": "markdown",
   "metadata": {},
   "source": [
    "The Maclaurin series can be used to find PI with any desired precision, with the knowledge that π = 4 arctan(1). The Maclaurin series for arctan(x) is:\n",
    "![formula](https://wikimedia.org/api/rest_v1/media/math/render/svg/a64209fea45287c3b62a80a127c651f62b904585)\n",
    "\n",
    "The Gauss-Legendre algorithm is an iterative algorithm that uses the arithmetic-geometric mean (AGM) to calculate pi.\n",
    "\n",
    "And the Monte Carlo method is:\n",
    "\n",
    "`pi = 4 * (number of points where x^2 + y^2 <1) / (total number of points)`"
   ]
  },
  {
   "cell_type": "code",
   "execution_count": 41,
   "metadata": {},
   "outputs": [],
   "source": [
    "from math import sqrt\n",
    "import random\n",
    "random.seed(42)\n",
    "\n",
    "def maclauren_pi(n: int) -> float:\n",
    "    pi_approx = 0.0\n",
    "    k = 0\n",
    "    while True:\n",
    "        pi_approx += ((-1) ** k) / (2 * k + 1)\n",
    "        k += 1\n",
    "        if round(pi_approx * 4, n) == round(pi, n):\n",
    "            return pi_approx * 4\n",
    "\n",
    "\n",
    "def gauss_legendre_pi_digits(n: int) -> float:\n",
    "    a = 1.0\n",
    "    b = 1.0 / sqrt(2)\n",
    "    t = 1.0 / 4.0\n",
    "    p = 1.0\n",
    "    pi_approx_old = 0.0\n",
    "    while True:\n",
    "        a_new = (a + b) / 2\n",
    "        b_new = sqrt(a * b)\n",
    "        t_new = t - p * (a - a_new) ** 2\n",
    "        p_new = 2 * p\n",
    "        a = a_new\n",
    "        b = b_new\n",
    "        t = t_new\n",
    "        p = p_new\n",
    "        pi_approx = (a + b) ** 2 / (4 * t)\n",
    "        if round(pi_approx, n) == round(pi_approx_old, n):\n",
    "            return pi_approx\n",
    "        pi_approx_old = pi_approx\n",
    "\n",
    "\n",
    "def monte_carlo_pi(n: int) -> float:\n",
    "    in_circle = 0\n",
    "    total = 0\n",
    "    while True:\n",
    "        x = random.random()\n",
    "        y = random.random()\n",
    "        if x ** 2 + y ** 2 <= 1:\n",
    "            in_circle += 1\n",
    "        total += 1\n",
    "        pi_approx = 4 * in_circle / total\n",
    "        if round(pi_approx, n) == round(pi, n):\n",
    "            return pi_approx"
   ]
  },
  {
   "attachments": {},
   "cell_type": "markdown",
   "metadata": {},
   "source": [
    "The input set is just going to be numbers from 2 to 8. The comparison will be made on the time it takes to compute the Nth digit of pi."
   ]
  },
  {
   "cell_type": "code",
   "execution_count": 46,
   "metadata": {},
   "outputs": [],
   "source": [
    "algorithms= [maclauren_pi, gauss_legendre_pi_digits, monte_carlo_pi]\n",
    "\n",
    "dataset = list(range(2, 9))"
   ]
  },
  {
   "attachments": {},
   "cell_type": "markdown",
   "metadata": {},
   "source": [
    "### 3. Choose metrics for comparing algorithms\n",
    "\n",
    "The metric that will be used for comparing the algorithms is running time.\n"
   ]
  },
  {
   "attachments": {},
   "cell_type": "markdown",
   "metadata": {},
   "source": [
    "### 4. Perform empirical analysis of the proposed algorithms\n",
    "\n",
    "The utility functions defined in the previous laboratories will be used to benchmark the running time of the algorithms.\n"
   ]
  },
  {
   "cell_type": "code",
   "execution_count": 47,
   "metadata": {},
   "outputs": [],
   "source": [
    "results = benchmark_single_thread(algorithms, dataset)\n"
   ]
  },
  {
   "cell_type": "code",
   "execution_count": 48,
   "metadata": {},
   "outputs": [
    {
     "name": "stdout",
     "output_type": "stream",
     "text": [
      "                               2       3        4         5          6  \\\n",
      "maclauren_pi              0.1577  1.0332  16.2352  125.2115  1134.6591   \n",
      "gauss_legendre_pi_digits  0.0104  0.0044   0.0036    0.0036     0.0036   \n",
      "monte_carlo_pi            0.0386  0.3028   0.4018   43.3162    79.1198   \n",
      "\n",
      "                                   7            8  \n",
      "maclauren_pi              12190.9629  141134.6034  \n",
      "gauss_legendre_pi_digits      0.0054       0.0038  \n",
      "monte_carlo_pi               46.4523    1417.4603  \n"
     ]
    }
   ],
   "source": [
    "# print table\n",
    "import pandas as pd\n",
    "\n",
    "df = pd.DataFrame(results.values(), index=results.keys(), columns=dataset)\n",
    "\n",
    "print(df)"
   ]
  },
  {
   "attachments": {},
   "cell_type": "markdown",
   "metadata": {},
   "source": [
    "### 5. Make a graphical presentation of the data obtained\n",
    "\n",
    "The following chart show the running time of each algorithm on the chosen graphs."
   ]
  },
  {
   "cell_type": "code",
   "execution_count": 49,
   "metadata": {},
   "outputs": [
    {
     "data": {
      "image/png": "[encoded data removed]",
      "text/plain": [
       "<Figure size 640x480 with 1 Axes>"
      ]
     },
     "metadata": {},
     "output_type": "display_data"
    }
   ],
   "source": [
    "plot_results(results, dataset, \"pi precision digits\")"
   ]
  },
  {
   "attachments": {},
   "cell_type": "markdown",
   "metadata": {},
   "source": [
    "The rest of the source code can be accessed publicly on GitHub: [https://github.com/prenaissance/labs-2022](https://github.com/prenaissance/labs-2022) "
   ]
  },
  {
   "attachments": {},
   "cell_type": "markdown",
   "metadata": {},
   "source": [
    "# Conclusion\n",
    "\n",
    "In this laboratory work, I compared the efficiency of 3 algorithms for approximating PI. The algorithms were implemented in Python and the running time was measured using the timeit module. The algorithms measured were Maclaurin series, Gauss-Legendre algorithm and Monte Carlo method.\n",
    "\n",
    "Although the Maclauren series algorithm is well known and is easy to implement and proof, it has a very low rate of convergence. The Gauss-Legendre algorithm is more complex to implement, but it is leagues ahead of the other algorithms.\n",
    "\n",
    "The Monte Carlo method is the easiest to implement, and the running time, unexpectedly, is not the worst of the three. However, due to the randomness, the accuracy is not guaranteed and an error margin is required."
   ]
  }
 ],
 "metadata": {
  "kernelspec": {
   "display_name": "Python 3",
   "language": "python",
   "name": "python3"
  },
  "language_info": {
   "codemirror_mode": {
    "name": "ipython",
    "version": 3
   },
   "file_extension": ".py",
   "mimetype": "text/x-python",
   "name": "python",
   "nbconvert_exporter": "python",
   "pygments_lexer": "ipython3",
   "version": "3.10.4"
  },
  "orig_nbformat": 4
 },
 "nbformat": 4,
 "nbformat_minor": 2
}
