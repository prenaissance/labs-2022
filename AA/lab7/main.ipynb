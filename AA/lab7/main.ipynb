{
 "cells": [
  {
   "attachments": {},
   "cell_type": "markdown",
   "metadata": {},
   "source": [
    "# Objectives\n",
    "\n",
    "1. Study the greedy algorithm design technique.\n",
    "2. To implement in a programming language algorithms Prim and Kruskal. \n",
    "3. Empirical analyses of the Kruskal and Prim\n",
    "4. Increase the number of nodes in graph and analyze how this influences the algorithms. Make a graphical presentation of the data obtained\n",
    "6. Make a conclusion on the work done\n"
   ]
  },
  {
   "attachments": {},
   "cell_type": "markdown",
   "metadata": {},
   "source": [
    "## Implementation\n"
   ]
  },
  {
   "attachments": {},
   "cell_type": "markdown",
   "metadata": {},
   "source": [
    "## Setup\n"
   ]
  },
  {
   "cell_type": "code",
   "execution_count": 73,
   "metadata": {},
   "outputs": [],
   "source": [
    "import sys\n",
    "import matplotlib.pyplot as plt\n",
    "\n",
    "sys.path.append('../shared')\n",
    "from decorators import *\n",
    "from benchmarking import *\n"
   ]
  },
  {
   "attachments": {},
   "cell_type": "markdown",
   "metadata": {},
   "source": [
    "### Generating the graphs\n"
   ]
  },
  {
   "cell_type": "code",
   "execution_count": 74,
   "metadata": {},
   "outputs": [],
   "source": [
    "import networkx as nx\n",
    "import random\n",
    "SEED = 42\n",
    "\n",
    "rand = random.Random(SEED)\n",
    "\n",
    "# complete graph, weights 1-100\n",
    "def get_complete_graph(n: int):\n",
    "    G = nx.complete_graph(n)\n",
    "    for (u, v) in G.edges():\n",
    "        G.edges[u, v]['weight'] = rand.randint(1, 100)\n",
    "    return G\n"
   ]
  },
  {
   "attachments": {},
   "cell_type": "markdown",
   "metadata": {},
   "source": [
    "### 1. Implement the algorithms listed below in a programming language (python)\n"
   ]
  },
  {
   "cell_type": "code",
   "execution_count": 75,
   "metadata": {},
   "outputs": [],
   "source": [
    "import networkx as nx\n",
    "from queue import PriorityQueue\n",
    "from typing import List\n",
    "\n",
    "def kruskal(G: nx.Graph) -> List[nx.Graph]:\n",
    "    mst = []\n",
    "    sets = [{u} for u in G.nodes()]\n",
    "    edges = list(G.edges(data='weight'))\n",
    "    edges.sort(key=lambda x: x[2])\n",
    "    for (u, v, w) in edges:\n",
    "        set_u = None\n",
    "        set_v = None\n",
    "        for s in sets:\n",
    "            if u in s:\n",
    "                set_u = s\n",
    "            if v in s:\n",
    "                set_v = s\n",
    "        if set_u != set_v:\n",
    "            mst.append((u, v))\n",
    "            set_u |= set_v\n",
    "            sets.remove(set_v)\n",
    "        if len(mst) == len(G) - 1:\n",
    "            break\n",
    "    return [G.edge_subgraph(mst)]\n",
    "\n",
    "def prim(graph: nx.Graph) -> nx.Graph:\n",
    "    T = nx.Graph()\n",
    "    T.add_node(0)\n",
    "    while len(T) < len(graph):\n",
    "        min_edge = None\n",
    "        min_weight = float('inf')\n",
    "        for u in T.nodes():\n",
    "            for v in graph.neighbors(u):\n",
    "                if v not in T:\n",
    "                    weight = graph.edges[u, v]['weight']\n",
    "                    if weight < min_weight:\n",
    "                        min_edge = (u, v)\n",
    "                        min_weight = weight\n",
    "        T.add_node(min_edge[1])\n",
    "        T.add_edge(*min_edge, weight=min_weight)"
   ]
  },
  {
   "attachments": {},
   "cell_type": "markdown",
   "metadata": {},
   "source": [
    "The 2 sets of inputs are going to be graphs with an exponentially increasing number of nodes, one set being sparse and another one being dense."
   ]
  },
  {
   "cell_type": "code",
   "execution_count": 76,
   "metadata": {},
   "outputs": [],
   "source": [
    "algorithms= [kruskal, prim]\n",
    "\n",
    "def exponential_yielder(start: int, end: int, step: int) -> int:\n",
    "    i = start\n",
    "    while i < end:\n",
    "        yield i\n",
    "        i *= step\n",
    "\n",
    "LIMIT = 1000\n",
    "\n",
    "graphs = [get_complete_graph(n) for n in exponential_yielder(10, LIMIT, 2)]\n"
   ]
  },
  {
   "attachments": {},
   "cell_type": "markdown",
   "metadata": {},
   "source": [
    "### 3. Choose metrics for comparing algorithms\n",
    "\n",
    "The metric that will be used for comparing the algorithms is running time.\n"
   ]
  },
  {
   "attachments": {},
   "cell_type": "markdown",
   "metadata": {},
   "source": [
    "### 4. Perform empirical analysis of the proposed algorithms\n",
    "\n",
    "The utility functions defined in the previous laboratories will be used to benchmark the running time of the algorithms.\n"
   ]
  },
  {
   "cell_type": "code",
   "execution_count": 77,
   "metadata": {},
   "outputs": [],
   "source": [
    "results = benchmark_single_thread(algorithms, graphs)\n"
   ]
  },
  {
   "cell_type": "code",
   "execution_count": 78,
   "metadata": {},
   "outputs": [
    {
     "name": "stdout",
     "output_type": "stream",
     "text": [
      "            10      20       40        80         160         320          640\n",
      "kruskal  0.5131  1.0847   4.8809   18.2613    83.2167    272.5764    1104.2074\n",
      "prim     0.6227  3.5125  24.8348  192.2931  1890.3086  15950.2386  127958.1793\n"
     ]
    }
   ],
   "source": [
    "# print table\n",
    "import pandas as pd\n",
    "columns=list(exponential_yielder(10, LIMIT, 2))\n",
    "\n",
    "df = pd.DataFrame(results.values(), index=results.keys(), columns=columns)\n",
    "\n",
    "print(df)"
   ]
  },
  {
   "attachments": {},
   "cell_type": "markdown",
   "metadata": {},
   "source": [
    "### 5. Make a graphical presentation of the data obtained\n",
    "\n",
    "The following chart show the running time of each algorithm on the chosen graphs."
   ]
  },
  {
   "cell_type": "code",
   "execution_count": 79,
   "metadata": {},
   "outputs": [
    {
     "data": {
      "image/png": "[encoded data removed]",
      "text/plain": [
       "<Figure size 640x480 with 1 Axes>"
      ]
     },
     "metadata": {},
     "output_type": "display_data"
    }
   ],
   "source": [
    "plot_results(results, columns, title=\"Minimum spanning tree algorithms\")"
   ]
  },
  {
   "attachments": {},
   "cell_type": "markdown",
   "metadata": {},
   "source": [
    "The rest of the source code can be accessed publicly on GitHub: [https://github.com/prenaissance/labs-2022](https://github.com/prenaissance/labs-2022) "
   ]
  },
  {
   "attachments": {},
   "cell_type": "markdown",
   "metadata": {},
   "source": [
    "# Conclusion\n",
    "\n",
    "In this laboratory work, I compared the efficiency of 2 greedy algorithms for determining the shortest spanning tree of a graph: Prim and Kruskal.\n",
    "\n",
    "The graphs used for benchmarking in this laboratory work were extremely sparse, being complete graphs, to show the weakness of the Prim algorithm. The Kruskal algorithm is more efficient in this case. Not only does it have an edge over Prim in terms of running time, but it also has a better memory complexity and can be used for finding shortest spanning forests.\n",
    "\n",
    "Both algorithms are straightforward to implement, but I think that Kruskal is more elegant and easier to understand."
   ]
  }
 ],
 "metadata": {
  "kernelspec": {
   "display_name": "Python 3",
   "language": "python",
   "name": "python3"
  },
  "language_info": {
   "codemirror_mode": {
    "name": "ipython",
    "version": 3
   },
   "file_extension": ".py",
   "mimetype": "text/x-python",
   "name": "python",
   "nbconvert_exporter": "python",
   "pygments_lexer": "ipython3",
   "version": "3.10.4"
  },
  "orig_nbformat": 4
 },
 "nbformat": 4,
 "nbformat_minor": 2
}
